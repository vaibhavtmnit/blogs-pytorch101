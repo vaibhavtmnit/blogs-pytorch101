{
 "cells": [
  {
   "cell_type": "code",
   "execution_count": 1,
   "metadata": {},
   "outputs": [],
   "source": [
    "import torch\n",
    "from  torch.utils.data  import DataLoader, Dataset"
   ]
  },
  {
   "cell_type": "code",
   "execution_count": 2,
   "metadata": {},
   "outputs": [],
   "source": [
    "class TestDataset(Dataset):\n",
    "# This line is telling python to create a class object of name TestDataset and inherit properties from \n",
    "# pytorch Dataset class\n",
    "\n",
    "    # __init__ is more of a boiler plate check classes video mentioned above to learn about this\n",
    "    def __init__(self,x,y):\n",
    "        \n",
    "        self.x = x\n",
    "        self.y = y\n",
    "        \n",
    "    \n",
    "    def __len__(self):\n",
    "    # When creating a custom dataset it is important to overwrite __len__ method as DataLoader uses it\n",
    "    # to find how many records are there in your data.\n",
    "    \n",
    "    # As you can see below this returns number of items you want to process, depending on how data is stored :\n",
    "    # - If you are working on text data x contains all your text documents\n",
    "    # - If working with tabular data and x is your dataframe you have to return total number of rows of x\n",
    "    # - If you are working with images total number of images is what you have to return\n",
    "    \n",
    "        return len(self.x)\n",
    "    \n",
    "    \n",
    "    def __getitem__(self, i):\n",
    "    # This function is called by DataLoader to get individual data instances to form a batch.\n",
    "    # Notice the i as argument this start with 0 and goes till len(self.x) -1 and used to return inidvidual instances\n",
    "    \n",
    "    # Indexing will change depending on type of x object if its dataframe use self.x.iloc[:,i] for list below will work\n",
    "        xi = self.x[i]\n",
    "        yi = self.y[i]\n",
    "    # Tip : if you are dealing with image file huge in size you can read those under this method instead of loading\n",
    "    # them all in your primary memory. Or if you are dealing with hige csv you can again read row by row from the\n",
    "    # file, You can even use a SQL query to fetch data directly from a DB here.\n",
    "        \n",
    "        \n",
    "        # You can apply any transformation of your choice convert xi,yi to tensors before returning and your\n",
    "        # dataloader will pack these into batches of desired size\n",
    "        return xi, yi\n",
    "        \n",
    "    \n",
    "\n",
    "    \n",
    "    "
   ]
  },
  {
   "cell_type": "markdown",
   "metadata": {},
   "source": [
    "#### Testing our dataset"
   ]
  },
  {
   "cell_type": "code",
   "execution_count": 6,
   "metadata": {},
   "outputs": [
    {
     "name": "stdout",
     "output_type": "stream",
     "text": [
      "X :  tensor([[ 0.4650,  0.4780,  0.4908,  0.0431],\n",
      "        [-0.4187,  1.7369, -1.5053, -0.3427],\n",
      "        [-0.7335, -1.8794, -0.1152, -0.3449],\n",
      "        [-0.3754, -0.9796,  0.0276,  1.0301],\n",
      "        [ 0.2058,  0.2976,  2.0082,  0.7300],\n",
      "        [ 0.5242, -0.7816,  1.4860,  0.3637],\n",
      "        [ 0.4685,  0.4967,  0.0545, -0.3493],\n",
      "        [ 0.6950, -0.3294,  0.5527, -1.9676],\n",
      "        [-0.3122,  1.8186,  1.1975,  1.9206],\n",
      "        [-0.0749, -1.8350, -1.0410,  0.1359]]) \n",
      " y :  tensor([[1],\n",
      "        [0],\n",
      "        [0],\n",
      "        [0],\n",
      "        [0],\n",
      "        [0],\n",
      "        [1],\n",
      "        [0],\n",
      "        [1],\n",
      "        [0]]) \n",
      "\n"
     ]
    }
   ],
   "source": [
    "# creating random data\n",
    "x = torch.randn(10,4)\n",
    "y = torch.randint(0,2,(10,1))\n",
    "\n",
    "print('X : ',x, '\\n',\n",
    "     'y : ',y, '\\n',)"
   ]
  },
  {
   "cell_type": "code",
   "execution_count": 7,
   "metadata": {},
   "outputs": [],
   "source": [
    "# Create a an instance of new dataset class\n",
    "testdataset = TestDataset(x,y)"
   ]
  },
  {
   "cell_type": "code",
   "execution_count": 12,
   "metadata": {},
   "outputs": [
    {
     "name": "stdout",
     "output_type": "stream",
     "text": [
      "(tensor([0.4650, 0.4780, 0.4908, 0.0431]), tensor([1])) \n",
      " ----------------------------------\n",
      "(tensor([-0.4187,  1.7369, -1.5053, -0.3427]), tensor([0])) \n",
      " ----------------------------------\n",
      "(tensor([-0.7335, -1.8794, -0.1152, -0.3449]), tensor([0])) \n",
      " ----------------------------------\n",
      "(tensor([-0.3754, -0.9796,  0.0276,  1.0301]), tensor([0])) \n",
      " ----------------------------------\n",
      "(tensor([0.2058, 0.2976, 2.0082, 0.7300]), tensor([0])) \n",
      " ----------------------------------\n",
      "(tensor([ 0.5242, -0.7816,  1.4860,  0.3637]), tensor([0])) \n",
      " ----------------------------------\n",
      "(tensor([ 0.4685,  0.4967,  0.0545, -0.3493]), tensor([1])) \n",
      " ----------------------------------\n",
      "(tensor([ 0.6950, -0.3294,  0.5527, -1.9676]), tensor([0])) \n",
      " ----------------------------------\n",
      "(tensor([-0.3122,  1.8186,  1.1975,  1.9206]), tensor([1])) \n",
      " ----------------------------------\n",
      "(tensor([-0.0749, -1.8350, -1.0410,  0.1359]), tensor([0])) \n",
      " ----------------------------------\n"
     ]
    }
   ],
   "source": [
    "for i in testdataset:\n",
    "    print(i,'\\n','----------------------------------')"
   ]
  },
  {
   "cell_type": "code",
   "execution_count": null,
   "metadata": {},
   "outputs": [],
   "source": []
  }
 ],
 "metadata": {
  "kernelspec": {
   "display_name": "Python 3",
   "language": "python",
   "name": "python3"
  },
  "language_info": {
   "codemirror_mode": {
    "name": "ipython",
    "version": 3
   },
   "file_extension": ".py",
   "mimetype": "text/x-python",
   "name": "python",
   "nbconvert_exporter": "python",
   "pygments_lexer": "ipython3",
   "version": "3.8.5"
  }
 },
 "nbformat": 4,
 "nbformat_minor": 4
}
